{
 "cells": [
  {
   "cell_type": "markdown",
   "id": "90ecda0d",
   "metadata": {
    "lines_to_next_cell": 0
   },
   "source": [
    "Basic imports and environment checks:\n",
    "- PyTorch version verification is essential for reproducibility\n",
    "- CUDA availability check - we'll need GPU access for future assignments\n",
    "- If CUDA isn't available, try nvidia-smi in terminal to check GPU status"
   ]
  },
  {
   "cell_type": "code",
   "id": "ef11d761",
   "metadata": {
    "ExecuteTime": {
     "end_time": "2025-02-03T02:58:08.722626Z",
     "start_time": "2025-02-03T02:58:07.149545Z"
    }
   },
   "source": [
    "import torch\n",
    "\n",
    "print(f\"PyTorch version: {torch.__version__}\")\n",
    "print(f\"CUDA available: {torch.cuda.is_available()}\")"
   ],
   "outputs": [
    {
     "name": "stdout",
     "output_type": "stream",
     "text": [
      "PyTorch version: 2.6.0\n",
      "CUDA available: False\n"
     ]
    }
   ],
   "execution_count": 2
  },
  {
   "cell_type": "markdown",
   "id": "0e2a01ed",
   "metadata": {},
   "source": [
    "Converting Python list to tensor - torch.as_tensor() is preferred over torch.tensor()\n",
    "as it can share memory with original data"
   ]
  },
  {
   "cell_type": "code",
   "id": "30af6aaf",
   "metadata": {
    "ExecuteTime": {
     "end_time": "2025-02-03T02:58:08.741595Z",
     "start_time": "2025-02-03T02:58:08.726717Z"
    }
   },
   "source": [
    "x = [1, 2, 3, 4, 5]\n",
    "x = torch.as_tensor(x)\n",
    "print(x)"
   ],
   "outputs": [
    {
     "name": "stdout",
     "output_type": "stream",
     "text": [
      "tensor([1, 2, 3, 4, 5])\n"
     ]
    }
   ],
   "execution_count": 3
  },
  {
   "cell_type": "markdown",
   "id": "a18dd5b2",
   "metadata": {},
   "source": [
    "Creating zero-filled tensor - useful for initializing buffers or placeholder tensors"
   ]
  },
  {
   "cell_type": "code",
   "id": "d5a89262",
   "metadata": {
    "ExecuteTime": {
     "end_time": "2025-02-03T02:58:08.764029Z",
     "start_time": "2025-02-03T02:58:08.750229Z"
    }
   },
   "source": [
    "x = torch.zeros(3, 4)\n",
    "print(x)"
   ],
   "outputs": [
    {
     "name": "stdout",
     "output_type": "stream",
     "text": [
      "tensor([[0., 0., 0., 0.],\n",
      "        [0., 0., 0., 0.],\n",
      "        [0., 0., 0., 0.]])\n"
     ]
    }
   ],
   "execution_count": 4
  },
  {
   "cell_type": "markdown",
   "id": "00ff67b7",
   "metadata": {},
   "source": [
    "Creating tensor filled with ones - commonly used for masks or initialization"
   ]
  },
  {
   "cell_type": "code",
   "id": "b2c648b0",
   "metadata": {
    "ExecuteTime": {
     "end_time": "2025-02-03T02:58:08.776568Z",
     "start_time": "2025-02-03T02:58:08.768284Z"
    }
   },
   "source": [
    "x = torch.ones(3, 4)\n",
    "print(x)"
   ],
   "outputs": [
    {
     "name": "stdout",
     "output_type": "stream",
     "text": [
      "tensor([[1., 1., 1., 1.],\n",
      "        [1., 1., 1., 1.],\n",
      "        [1., 1., 1., 1.]])\n"
     ]
    }
   ],
   "execution_count": 5
  },
  {
   "cell_type": "markdown",
   "id": "1c46f1c8",
   "metadata": {},
   "source": [
    "Creating tensor with custom fill value - useful when you need specific constant values"
   ]
  },
  {
   "cell_type": "code",
   "id": "58116616",
   "metadata": {
    "ExecuteTime": {
     "end_time": "2025-02-03T02:58:08.783414Z",
     "start_time": "2025-02-03T02:58:08.781178Z"
    }
   },
   "source": [
    "x = torch.full((3, 4), fill_value=2)\n",
    "print(x)"
   ],
   "outputs": [
    {
     "name": "stdout",
     "output_type": "stream",
     "text": [
      "tensor([[2, 2, 2, 2],\n",
      "        [2, 2, 2, 2],\n",
      "        [2, 2, 2, 2]])\n"
     ]
    }
   ],
   "execution_count": 6
  },
  {
   "cell_type": "markdown",
   "id": "fc23e646",
   "metadata": {},
   "source": [
    "Random tensor from normal distribution - key for weight initialization"
   ]
  },
  {
   "cell_type": "code",
   "id": "ae283c9d",
   "metadata": {
    "ExecuteTime": {
     "end_time": "2025-02-03T02:58:08.794560Z",
     "start_time": "2025-02-03T02:58:08.791030Z"
    }
   },
   "source": [
    "x = torch.randn(3, 4)\n",
    "print(x)"
   ],
   "outputs": [
    {
     "name": "stdout",
     "output_type": "stream",
     "text": [
      "tensor([[-0.5973,  0.0940,  0.0424,  1.7002],\n",
      "        [-0.1334,  1.2279, -0.0946, -0.3441],\n",
      "        [-0.8992, -0.7610,  0.1679,  0.1762]])\n"
     ]
    }
   ],
   "execution_count": 7
  },
  {
   "cell_type": "markdown",
   "id": "8a73deef",
   "metadata": {},
   "source": [
    "`zeros_like` creates tensor with same shape/dtype as input but filled with zeros"
   ]
  },
  {
   "cell_type": "code",
   "id": "78b905d2",
   "metadata": {
    "ExecuteTime": {
     "end_time": "2025-02-03T02:58:08.806739Z",
     "start_time": "2025-02-03T02:58:08.804357Z"
    }
   },
   "source": [
    "x = torch.randn(3, 4)\n",
    "y = torch.zeros_like(x)\n",
    "print(y)"
   ],
   "outputs": [
    {
     "name": "stdout",
     "output_type": "stream",
     "text": [
      "tensor([[0., 0., 0., 0.],\n",
      "        [0., 0., 0., 0.],\n",
      "        [0., 0., 0., 0.]])\n"
     ]
    }
   ],
   "execution_count": 8
  },
  {
   "cell_type": "markdown",
   "id": "53811a84",
   "metadata": {},
   "source": [
    "`ones_like` - similar to before but fills with ones"
   ]
  },
  {
   "cell_type": "code",
   "id": "1f117386",
   "metadata": {
    "ExecuteTime": {
     "end_time": "2025-02-03T02:58:08.817205Z",
     "start_time": "2025-02-03T02:58:08.814637Z"
    }
   },
   "source": [
    "x = torch.randn(3, 4)\n",
    "y = torch.ones_like(x)\n",
    "print(y)"
   ],
   "outputs": [
    {
     "name": "stdout",
     "output_type": "stream",
     "text": [
      "tensor([[1., 1., 1., 1.],\n",
      "        [1., 1., 1., 1.],\n",
      "        [1., 1., 1., 1.]])\n"
     ]
    }
   ],
   "execution_count": 9
  },
  {
   "cell_type": "markdown",
   "id": "d43370d0",
   "metadata": {},
   "source": [
    "`full_like` - creates tensor matching input shape but with custom fill value"
   ]
  },
  {
   "cell_type": "code",
   "id": "c07680bb",
   "metadata": {
    "ExecuteTime": {
     "end_time": "2025-02-03T02:58:08.831167Z",
     "start_time": "2025-02-03T02:58:08.828339Z"
    }
   },
   "source": [
    "x = torch.randn(3, 4)\n",
    "y = torch.full_like(x, 5)\n",
    "print(y)"
   ],
   "outputs": [
    {
     "name": "stdout",
     "output_type": "stream",
     "text": [
      "tensor([[5., 5., 5., 5.],\n",
      "        [5., 5., 5., 5.],\n",
      "        [5., 5., 5., 5.]])\n"
     ]
    }
   ],
   "execution_count": 10
  },
  {
   "cell_type": "markdown",
   "id": "3d4db449",
   "metadata": {},
   "source": [
    "`new_tensor` creates tensor with inherited properties (device/dtype) from source"
   ]
  },
  {
   "cell_type": "code",
   "id": "21708807",
   "metadata": {
    "ExecuteTime": {
     "end_time": "2025-02-03T02:58:08.846234Z",
     "start_time": "2025-02-03T02:58:08.843048Z"
    }
   },
   "source": [
    "x = torch.zeros(3, 4, dtype=torch.bool)\n",
    "y = x.new_tensor([1])\n",
    "print(x)\n",
    "print(y)\n",
    "print(x)"
   ],
   "outputs": [
    {
     "name": "stdout",
     "output_type": "stream",
     "text": [
      "tensor([[False, False, False, False],\n",
      "        [False, False, False, False],\n",
      "        [False, False, False, False]])\n",
      "tensor([True])\n",
      "tensor([[False, False, False, False],\n",
      "        [False, False, False, False],\n",
      "        [False, False, False, False]])\n"
     ]
    }
   ],
   "execution_count": 11
  },
  {
   "cell_type": "markdown",
   "id": "f4b16ecc",
   "metadata": {},
   "source": [
    "Broadcasting example with 2D tensors - shows automatic size matching"
   ]
  },
  {
   "cell_type": "code",
   "id": "a2e22deb",
   "metadata": {
    "ExecuteTime": {
     "end_time": "2025-02-03T02:58:08.857543Z",
     "start_time": "2025-02-03T02:58:08.854128Z"
    }
   },
   "source": [
    "x = torch.ones(5, 1)\n",
    "y = torch.ones(1, 5)\n",
    "z = x + y\n",
    "print(x)\n",
    "print(y)\n",
    "print(z, z.shape)"
   ],
   "outputs": [
    {
     "name": "stdout",
     "output_type": "stream",
     "text": [
      "tensor([[1.],\n",
      "        [1.],\n",
      "        [1.],\n",
      "        [1.],\n",
      "        [1.]])\n",
      "tensor([[1., 1., 1., 1., 1.]])\n",
      "tensor([[2., 2., 2., 2., 2.],\n",
      "        [2., 2., 2., 2., 2.],\n",
      "        [2., 2., 2., 2., 2.],\n",
      "        [2., 2., 2., 2., 2.],\n",
      "        [2., 2., 2., 2., 2.]]) torch.Size([5, 5])\n"
     ]
    }
   ],
   "execution_count": 12
  },
  {
   "cell_type": "markdown",
   "id": "dceb2dac",
   "metadata": {},
   "source": [
    "Complex broadcasting with 5D tensors - demonstrates multi-dimension expansion"
   ]
  },
  {
   "cell_type": "code",
   "id": "972da2c6",
   "metadata": {
    "ExecuteTime": {
     "end_time": "2025-02-03T02:58:08.874145Z",
     "start_time": "2025-02-03T02:58:08.871561Z"
    }
   },
   "source": [
    "x = torch.ones(1, 1, 1, 1, 1)\n",
    "y = torch.ones(2, 1, 3, 1, 2)\n",
    "z = x + y\n",
    "print(z, z.shape)"
   ],
   "outputs": [
    {
     "name": "stdout",
     "output_type": "stream",
     "text": [
      "tensor([[[[[2., 2.]],\n",
      "\n",
      "          [[2., 2.]],\n",
      "\n",
      "          [[2., 2.]]]],\n",
      "\n",
      "\n",
      "\n",
      "        [[[[2., 2.]],\n",
      "\n",
      "          [[2., 2.]],\n",
      "\n",
      "          [[2., 2.]]]]]) torch.Size([2, 1, 3, 1, 2])\n"
     ]
    }
   ],
   "execution_count": 13
  },
  {
   "cell_type": "markdown",
   "id": "d15a0950",
   "metadata": {},
   "source": [
    "Mean reduction - shows global and dimensional mean calculations"
   ]
  },
  {
   "cell_type": "code",
   "id": "95b8be73",
   "metadata": {
    "ExecuteTime": {
     "end_time": "2025-02-03T02:58:08.890651Z",
     "start_time": "2025-02-03T02:58:08.886589Z"
    }
   },
   "source": [
    "x = torch.ones(3, 4, 5)\n",
    "print(x.mean())\n",
    "print(x.mean(-1))"
   ],
   "outputs": [
    {
     "name": "stdout",
     "output_type": "stream",
     "text": [
      "tensor(1.)\n",
      "tensor([[1., 1., 1., 1.],\n",
      "        [1., 1., 1., 1.],\n",
      "        [1., 1., 1., 1.]])\n"
     ]
    }
   ],
   "execution_count": 14
  },
  {
   "cell_type": "markdown",
   "id": "d6e95712",
   "metadata": {},
   "source": [
    "Sum reduction - demonstrates summing across specified dimensions"
   ]
  },
  {
   "cell_type": "code",
   "id": "26ab2c0c",
   "metadata": {
    "ExecuteTime": {
     "end_time": "2025-02-03T02:58:08.898397Z",
     "start_time": "2025-02-03T02:58:08.895721Z"
    }
   },
   "source": [
    "x = torch.ones(3, 4, 5)\n",
    "print(x.sum(dim=0))\n",
    "print(x.sum(dim=(1, 2)))"
   ],
   "outputs": [
    {
     "name": "stdout",
     "output_type": "stream",
     "text": [
      "tensor([[3., 3., 3., 3., 3.],\n",
      "        [3., 3., 3., 3., 3.],\n",
      "        [3., 3., 3., 3., 3.],\n",
      "        [3., 3., 3., 3., 3.]])\n",
      "tensor([20., 20., 20.])\n"
     ]
    }
   ],
   "execution_count": 15
  },
  {
   "cell_type": "markdown",
   "id": "5dc197df",
   "metadata": {},
   "source": [
    "`keepdim`` usage - shows difference in output shapes"
   ]
  },
  {
   "cell_type": "code",
   "id": "e927bc7e",
   "metadata": {
    "ExecuteTime": {
     "end_time": "2025-02-03T02:58:08.915446Z",
     "start_time": "2025-02-03T02:58:08.912776Z"
    }
   },
   "source": [
    "x = torch.ones(3, 4, 5)\n",
    "y = x.sum(dim=(1, 2))\n",
    "z = x.sum(dim=(1, 2), keepdim=True)\n",
    "print(y, y.shape)\n",
    "print(z, z.shape)"
   ],
   "outputs": [
    {
     "name": "stdout",
     "output_type": "stream",
     "text": [
      "tensor([20., 20., 20.]) torch.Size([3])\n",
      "tensor([[[20.]],\n",
      "\n",
      "        [[20.]],\n",
      "\n",
      "        [[20.]]]) torch.Size([3, 1, 1])\n"
     ]
    }
   ],
   "execution_count": 16
  },
  {
   "cell_type": "markdown",
   "id": "c2b95c4b",
   "metadata": {},
   "source": [
    "Type conversion example - converting float tensor to long (int64)"
   ]
  },
  {
   "cell_type": "code",
   "id": "df105ac7",
   "metadata": {
    "ExecuteTime": {
     "end_time": "2025-02-03T02:58:08.929639Z",
     "start_time": "2025-02-03T02:58:08.927127Z"
    }
   },
   "source": [
    "x = torch.randn(5, 5)\n",
    "print(x.to(torch.long))"
   ],
   "outputs": [
    {
     "name": "stdout",
     "output_type": "stream",
     "text": [
      "tensor([[ 0,  0,  0,  0,  0],\n",
      "        [ 0,  1,  0,  0,  0],\n",
      "        [ 1,  0,  0,  0,  0],\n",
      "        [ 0,  0,  0,  0,  0],\n",
      "        [ 0, -1,  0,  0,  2]])\n"
     ]
    }
   ],
   "execution_count": 17
  },
  {
   "cell_type": "markdown",
   "id": "0990e554",
   "metadata": {},
   "source": [
    "Reshaping with view - maintains underlying data pointer"
   ]
  },
  {
   "cell_type": "code",
   "id": "85b4c3a4",
   "metadata": {
    "ExecuteTime": {
     "end_time": "2025-02-03T02:58:08.940600Z",
     "start_time": "2025-02-03T02:58:08.937790Z"
    }
   },
   "source": [
    "x = torch.randn(2, 3, 2)\n",
    "y = x.view(6, 2)\n",
    "z = x.view(-1, 2)\n",
    "print(y, y.shape)\n",
    "print(z, z.shape)"
   ],
   "outputs": [
    {
     "name": "stdout",
     "output_type": "stream",
     "text": [
      "tensor([[-1.3345, -0.5327],\n",
      "        [-1.3318, -0.1619],\n",
      "        [ 0.5496,  1.1547],\n",
      "        [ 0.1888,  0.5211],\n",
      "        [-0.0891,  0.4828],\n",
      "        [-0.9473, -0.6930]]) torch.Size([6, 2])\n",
      "tensor([[-1.3345, -0.5327],\n",
      "        [-1.3318, -0.1619],\n",
      "        [ 0.5496,  1.1547],\n",
      "        [ 0.1888,  0.5211],\n",
      "        [-0.0891,  0.4828],\n",
      "        [-0.9473, -0.6930]]) torch.Size([6, 2])\n"
     ]
    }
   ],
   "execution_count": 18
  },
  {
   "cell_type": "markdown",
   "id": "e31cc288",
   "metadata": {},
   "source": [
    "Permute operation - reorders dimensions of tensor"
   ]
  },
  {
   "cell_type": "code",
   "id": "2cf7edef",
   "metadata": {
    "ExecuteTime": {
     "end_time": "2025-02-03T02:58:08.953277Z",
     "start_time": "2025-02-03T02:58:08.950006Z"
    }
   },
   "source": [
    "x = torch.randn(2, 3, 2)\n",
    "y = x.permute(1, 2, 0)\n",
    "print(y, y.shape)"
   ],
   "outputs": [
    {
     "name": "stdout",
     "output_type": "stream",
     "text": [
      "tensor([[[ 0.4092,  0.7303],\n",
      "         [-1.4161, -0.0332]],\n",
      "\n",
      "        [[ 1.0715,  0.8298],\n",
      "         [ 1.1001, -0.3272]],\n",
      "\n",
      "        [[ 0.7307, -0.6910],\n",
      "         [ 0.5101,  0.3695]]]) torch.Size([3, 2, 2])\n"
     ]
    }
   ],
   "execution_count": 19
  },
  {
   "cell_type": "markdown",
   "id": "101755a3",
   "metadata": {},
   "source": [
    "Concatenation along specified dimension"
   ]
  },
  {
   "cell_type": "code",
   "id": "dd30b717",
   "metadata": {
    "ExecuteTime": {
     "end_time": "2025-02-03T02:58:08.963494Z",
     "start_time": "2025-02-03T02:58:08.959798Z"
    }
   },
   "source": [
    "x = torch.ones(2, 3)\n",
    "y = torch.ones(2, 3)\n",
    "z = torch.cat([x, y], dim=0)\n",
    "print(z, z.shape)"
   ],
   "outputs": [
    {
     "name": "stdout",
     "output_type": "stream",
     "text": [
      "tensor([[1., 1., 1.],\n",
      "        [1., 1., 1.],\n",
      "        [1., 1., 1.],\n",
      "        [1., 1., 1.]]) torch.Size([4, 3])\n"
     ]
    }
   ],
   "execution_count": 20
  },
  {
   "cell_type": "markdown",
   "id": "fdc18588",
   "metadata": {},
   "source": [
    "Stack operation - adds new dimension for combining tensors"
   ]
  },
  {
   "cell_type": "code",
   "id": "040f19d2",
   "metadata": {
    "lines_to_next_cell": 2,
    "ExecuteTime": {
     "end_time": "2025-02-03T02:58:08.973252Z",
     "start_time": "2025-02-03T02:58:08.970094Z"
    }
   },
   "source": [
    "x = torch.ones(2, 3)\n",
    "y = torch.ones(2, 3)\n",
    "z = torch.stack([x, y], dim=1)\n",
    "print(z, z.shape)"
   ],
   "outputs": [
    {
     "name": "stdout",
     "output_type": "stream",
     "text": [
      "tensor([[[1., 1., 1.],\n",
      "         [1., 1., 1.]],\n",
      "\n",
      "        [[1., 1., 1.],\n",
      "         [1., 1., 1.]]]) torch.Size([2, 2, 3])\n"
     ]
    }
   ],
   "execution_count": 21
  },
  {
   "cell_type": "markdown",
   "id": "5909ac3a",
   "metadata": {},
   "source": [
    "Performance comparison: Python list operations vs PyTorch operations"
   ]
  },
  {
   "cell_type": "code",
   "id": "0cfb5ede",
   "metadata": {
    "ExecuteTime": {
     "end_time": "2025-02-03T02:58:08.993710Z",
     "start_time": "2025-02-03T02:58:08.980572Z"
    }
   },
   "source": [
    "import time\n",
    "\n",
    "\n",
    "def add_two_lists(x, y):\n",
    "    z = []\n",
    "    for i, j in zip(x, y):\n",
    "        z.append(i + j)\n",
    "    return z\n",
    "\n",
    "\n",
    "x = torch.ones(5000)\n",
    "y = torch.ones(5000)\n",
    "t1 = time.time()\n",
    "z = add_two_lists(x, y)\n",
    "print(f\"{time.time() - t1:.4f} sec.\")"
   ],
   "outputs": [
    {
     "name": "stdout",
     "output_type": "stream",
     "text": [
      "0.0109 sec.\n"
     ]
    }
   ],
   "execution_count": 22
  },
  {
   "cell_type": "markdown",
   "id": "a01b782f",
   "metadata": {},
   "source": [
    "PyTorch vectorized operation - significantly faster"
   ]
  },
  {
   "cell_type": "code",
   "id": "09fb0cc1",
   "metadata": {
    "ExecuteTime": {
     "end_time": "2025-02-03T02:58:09.007126Z",
     "start_time": "2025-02-03T02:58:09.003702Z"
    }
   },
   "source": [
    "def add_two_lists(x, y):\n",
    "    return x + y\n",
    "\n",
    "\n",
    "x = torch.ones(5000)\n",
    "y = torch.ones(5000)\n",
    "t1 = time.time()\n",
    "z = add_two_lists(x, y)\n",
    "print(f\"{time.time() - t1:.4f} sec.\")"
   ],
   "outputs": [
    {
     "name": "stdout",
     "output_type": "stream",
     "text": [
      "0.0015 sec.\n"
     ]
    }
   ],
   "execution_count": 23
  },
  {
   "cell_type": "markdown",
   "id": "e7ca7913",
   "metadata": {},
   "source": [
    "Type conversion examples - showing different conversion methods"
   ]
  },
  {
   "cell_type": "code",
   "id": "c8a6eb00",
   "metadata": {
    "ExecuteTime": {
     "end_time": "2025-02-03T02:58:09.013989Z",
     "start_time": "2025-02-03T02:58:09.011292Z"
    }
   },
   "source": [
    "x = torch.randn(3, 3)\n",
    "y = torch.zeros(5, 2, dtype=torch.long)\n",
    "print(x.to(torch.float32))\n",
    "print(x.to(torch.bool))\n",
    "print(x.to(y))"
   ],
   "outputs": [
    {
     "name": "stdout",
     "output_type": "stream",
     "text": [
      "tensor([[-0.3746,  0.1918, -2.2743],\n",
      "        [-0.5862, -2.0558, -0.0281],\n",
      "        [-0.6524, -0.4068, -0.1138]])\n",
      "tensor([[True, True, True],\n",
      "        [True, True, True],\n",
      "        [True, True, True]])\n",
      "tensor([[ 0,  0, -2],\n",
      "        [ 0, -2,  0],\n",
      "        [ 0,  0,  0]])\n"
     ]
    }
   ],
   "execution_count": 24
  },
  {
   "cell_type": "markdown",
   "id": "1aac8520",
   "metadata": {},
   "source": [
    "`arange` examples - different ways to create sequences"
   ]
  },
  {
   "cell_type": "code",
   "id": "f53a0bcc",
   "metadata": {
    "ExecuteTime": {
     "end_time": "2025-02-03T02:58:09.026235Z",
     "start_time": "2025-02-03T02:58:09.023066Z"
    }
   },
   "source": [
    "x = torch.arange(8)\n",
    "print(x)\n",
    "y = torch.arange(2, 8)\n",
    "print(y)\n",
    "z = torch.arange(3, 10, step=2)\n",
    "print(z)"
   ],
   "outputs": [
    {
     "name": "stdout",
     "output_type": "stream",
     "text": [
      "tensor([0, 1, 2, 3, 4, 5, 6, 7])\n",
      "tensor([2, 3, 4, 5, 6, 7])\n",
      "tensor([3, 5, 7, 9])\n"
     ]
    }
   ],
   "execution_count": 25
  },
  {
   "metadata": {
    "ExecuteTime": {
     "end_time": "2025-02-03T02:58:09.093411Z",
     "start_time": "2025-02-03T02:58:09.091042Z"
    }
   },
   "cell_type": "code",
   "source": [
    "x = torch.tensor([1, 2, 3,4,5,6,7,8])\n",
    "print(x[:3])"
   ],
   "id": "c22ffe979606ac88",
   "outputs": [
    {
     "name": "stdout",
     "output_type": "stream",
     "text": [
      "tensor([1, 2, 3])\n"
     ]
    }
   ],
   "execution_count": 26
  },
  {
   "metadata": {
    "ExecuteTime": {
     "end_time": "2025-02-03T02:58:22.865765Z",
     "start_time": "2025-02-03T02:58:22.863253Z"
    }
   },
   "cell_type": "code",
   "source": [
    "# Create a 2D tensor\n",
    "x = torch.tensor([[1, 2, 3], [4, 5, 6]])\n",
    "\n",
    "# Transpose the tensor\n",
    "x_transposed = x.mT\n",
    "\n",
    "print(x_transposed)"
   ],
   "id": "3116768f1c6d701a",
   "outputs": [
    {
     "name": "stdout",
     "output_type": "stream",
     "text": [
      "tensor([[1, 4],\n",
      "        [2, 5],\n",
      "        [3, 6]])\n"
     ]
    }
   ],
   "execution_count": 31
  }
 ],
 "metadata": {
  "jupytext": {
   "cell_markers": "region,endregion"
  },
  "kernelspec": {
   "display_name": "Python 3",
   "language": "python",
   "name": "python3"
  }
 },
 "nbformat": 4,
 "nbformat_minor": 5
}
